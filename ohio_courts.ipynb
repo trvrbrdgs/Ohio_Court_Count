{
 "cells": [
  {
   "cell_type": "code",
   "execution_count": 24,
   "metadata": {},
   "outputs": [],
   "source": [
    "import pandas as pd\n",
    "import ast"
   ]
  },
  {
   "cell_type": "code",
   "execution_count": 25,
   "metadata": {},
   "outputs": [
    {
     "name": "stdout",
     "output_type": "stream",
     "text": [
      "             Name                                              Links\n",
      "0   main-nav-menu                                                 []\n",
      "1           adams  [('https://www.adamscountycourts.com/CountyCou...\n",
      "2           allen  [('http://www.allencountyohio.com/domestic/cdo...\n",
      "3         ashland  [('http://www.ashlandcommonpleas.com/', 'Ashla...\n",
      "4       ashtabula  [('http://courts.co.ashtabula.oh.us/eastern_co...\n",
      "..            ...                                                ...\n",
      "84     washington  [('http://www.mariettacourt.com/', 'Marietta M...\n",
      "85          wayne  [('http://www.waynecourtofcommonpleas.org/', '...\n",
      "86       williams  [('http://www.bryanmunicipalcourt.com/', 'Brya...\n",
      "87           wood  [('http://www.bgcourt.org/', 'Bowling Green Mu...\n",
      "88        wyandot  [('https://www.uppermunicourt.com/', 'Upper Sa...\n",
      "\n",
      "[89 rows x 2 columns]\n"
     ]
    }
   ],
   "source": [
    "# read the csv file into a DataFrame\n",
    "ohio_df= pd.read_csv('Resources/ohio_df.csv')\n",
    "\n",
    "# Display the data\n",
    "print(ohio_df)"
   ]
  },
  {
   "cell_type": "code",
   "execution_count": 26,
   "metadata": {},
   "outputs": [],
   "source": [
    "# Convert the string representation of the list of tuples into a list of tuples\n",
    "ohio_df['Links'] = ohio_df['Links'].apply(ast.literal_eval)\n"
   ]
  },
  {
   "cell_type": "code",
   "execution_count": 27,
   "metadata": {},
   "outputs": [],
   "source": [
    "# Initialize lists to store the extracted URLs and Titles\n",
    "urls = []\n",
    "titles = []"
   ]
  },
  {
   "cell_type": "code",
   "execution_count": 28,
   "metadata": {},
   "outputs": [],
   "source": [
    "# Iterate over each row\n",
    "for links in ohio_df['Links']:\n",
    "    # Check if the links list is empty\n",
    "    if not links:\n",
    "        urls.append(None)\n",
    "        titles.append(None)\n",
    "    else:\n",
    "        # Extract the URL and Title if the links list is not empty\n",
    "        urls.append(links[0][0] if len(links[0]) > 0 else None)\n",
    "        titles.append(links[0][1] if len(links[0]) > 1 else None)"
   ]
  },
  {
   "cell_type": "code",
   "execution_count": 29,
   "metadata": {},
   "outputs": [],
   "source": [
    "# Assign the extracted URLs and Titles to new columns\n",
    "ohio_df['URL'] = urls\n",
    "ohio_df['Title'] = titles"
   ]
  },
  {
   "cell_type": "code",
   "execution_count": 30,
   "metadata": {},
   "outputs": [
    {
     "name": "stdout",
     "output_type": "stream",
     "text": [
      "             Name                                                URL  \\\n",
      "0   main-nav-menu                                               None   \n",
      "1           adams  https://www.adamscountycourts.com/CountyCourt/...   \n",
      "2           allen   http://www.allencountyohio.com/domestic/cdom.php   \n",
      "3         ashland                 http://www.ashlandcommonpleas.com/   \n",
      "4       ashtabula  http://courts.co.ashtabula.oh.us/eastern_count...   \n",
      "..            ...                                                ...   \n",
      "84     washington                      http://www.mariettacourt.com/   \n",
      "85          wayne            http://www.waynecourtofcommonpleas.org/   \n",
      "86       williams                http://www.bryanmunicipalcourt.com/   \n",
      "87           wood                            http://www.bgcourt.org/   \n",
      "88        wyandot                    https://www.uppermunicourt.com/   \n",
      "\n",
      "                                                Title  \n",
      "0                                                None  \n",
      "1                                  Adams County Court  \n",
      "2   Allen County Court of Common Pleas, Domestic R...  \n",
      "3   Ashland County Court of Common Pleas, General ...  \n",
      "4            Ashtabula County Court, Eastern Division  \n",
      "..                                                ...  \n",
      "84                           Marietta Municipal Court  \n",
      "85  Wayne County Court of Common Pleas, General & ...  \n",
      "86                              Bryan Municipal Court  \n",
      "87                      Bowling Green Municipal Court  \n",
      "88                     Upper Sandusky Municipal Court  \n",
      "\n",
      "[89 rows x 3 columns]\n"
     ]
    }
   ],
   "source": [
    "# Drop the original \"Links\" column\n",
    "new_ohio_df = ohio_df.drop(\"Links\", axis=1)\n",
    "\n",
    "# display updated spread\n",
    "print(new_ohio_df)"
   ]
  },
  {
   "cell_type": "code",
   "execution_count": 31,
   "metadata": {},
   "outputs": [
    {
     "name": "stdout",
     "output_type": "stream",
     "text": [
      "        Name                                                URL  \\\n",
      "0      adams  https://www.adamscountycourts.com/CountyCourt/...   \n",
      "1      adams  https://www.adamscountycourts.com/pdf/localRul...   \n",
      "2      adams  https://adamscountycourts.com/CommonPleasCourt...   \n",
      "3      adams  https://adamscountycourts.com/pdf/localRules-2...   \n",
      "4      allen   http://www.allencountyohio.com/domestic/cdom.php   \n",
      "..       ...                                                ...   \n",
      "850  wyandot  https://www.co.wood.oh.us/juvenilecourt/MiscPD...   \n",
      "851  wyandot                http://wyandotjpcourt.com/index.php   \n",
      "852  wyandot            /docs/Clerk/Local Rules/wyandotCoPD.pdf   \n",
      "853  wyandot                     https://ohiocourtofclaims.gov/   \n",
      "854  wyandot   https://ohiocourtofclaims.gov/rules-statutes.php   \n",
      "\n",
      "                                                 Title  \n",
      "0                                   Adams County Court  \n",
      "1                                          Local Rules  \n",
      "2                   Adams County Court of Common Pleas  \n",
      "3                                          Local Rules  \n",
      "4    Allen County Court of Common Pleas, Domestic R...  \n",
      "..                                                 ...  \n",
      "850                                        Local Rules  \n",
      "851  Wyandot County Court of Common Pleas Probate D...  \n",
      "852                                        Local Rules  \n",
      "853                            Court of Claims of Ohio  \n",
      "854                                        Local Rules  \n",
      "\n",
      "[855 rows x 3 columns]\n"
     ]
    }
   ],
   "source": [
    "# Initialize lists to store the extracted data\n",
    "new_rows=[]\n",
    "\n",
    "# Iterate over each row\n",
    "for index, row in ohio_df.iterrows():\n",
    "    name = row['Name']\n",
    "    links = row['Links']\n",
    "\n",
    "    # Iterate over each tuple in the links list\n",
    "    for link in links:\n",
    "        url = link[0]\n",
    "        title = link[1]\n",
    "\n",
    "        # Create a new row with the separated tuple value and add the name from the first column\n",
    "        new_row = {'Name': name, 'URL':url, 'Title':title}\n",
    "        new_rows.append(new_row)\n",
    "\n",
    "# Create a new DataFrame with the separated tuples and added name from the first column\n",
    "new_df = pd.DataFrame(new_rows)\n",
    "\n",
    "# Display the new DataFrame\n",
    "print(new_df)"
   ]
  },
  {
   "cell_type": "code",
   "execution_count": 32,
   "metadata": {},
   "outputs": [],
   "source": [
    "# import new_df to csv, so I can see it\n",
    "new_df.to_csv('Resources/new_df.csv', index=False)"
   ]
  },
  {
   "cell_type": "code",
   "execution_count": 33,
   "metadata": {},
   "outputs": [
    {
     "name": "stdout",
     "output_type": "stream",
     "text": [
      "        Name                                                URL  \\\n",
      "0      adams  https://www.adamscountycourts.com/CountyCourt/...   \n",
      "2      adams  https://adamscountycourts.com/CommonPleasCourt...   \n",
      "4      allen   http://www.allencountyohio.com/domestic/cdom.php   \n",
      "6      allen     http://www.co.allen.oh.us/commonpleas/ccom.php   \n",
      "8      allen                  http://www.allenohiojuvenile.com/   \n",
      "..       ...                                                ...   \n",
      "844     wood            http://www.probate-court.co.wood.oh.us/   \n",
      "846  wyandot                    https://www.uppermunicourt.com/   \n",
      "849  wyandot                http://wyandotjpcourt.com/index.php   \n",
      "851  wyandot                http://wyandotjpcourt.com/index.php   \n",
      "853  wyandot                     https://ohiocourtofclaims.gov/   \n",
      "\n",
      "                                                 Title  \n",
      "0                                   Adams County Court  \n",
      "2                   Adams County Court of Common Pleas  \n",
      "4    Allen County Court of Common Pleas, Domestic R...  \n",
      "6    Allen County Court of Common Pleas, General Di...  \n",
      "8    Allen County Court of Common Pleas,  Juvenile ...  \n",
      "..                                                 ...  \n",
      "844  Wood County Court of Common Pleas, Probate Div...  \n",
      "846                     Upper Sandusky Municipal Court  \n",
      "849  Wyandot County Court of Common Pleas Juvenile ...  \n",
      "851  Wyandot County Court of Common Pleas Probate D...  \n",
      "853                            Court of Claims of Ohio  \n",
      "\n",
      "[419 rows x 3 columns]\n"
     ]
    }
   ],
   "source": [
    "# Drop all rows containing \"local rules\"\n",
    "drop_rows= new_df[new_df['Title'] !='Local Rules']\n",
    "\n",
    "print(drop_rows)"
   ]
  },
  {
   "cell_type": "code",
   "execution_count": 34,
   "metadata": {},
   "outputs": [
    {
     "name": "stdout",
     "output_type": "stream",
     "text": [
      "Number of rows containing 'Common Pleas': 261\n"
     ]
    }
   ],
   "source": [
    "# Number of Common Pleas courts\n",
    "common_pleas= drop_rows['Title'].str.contains(\"Common Pleas\").sum()\n",
    "print(\"Number of rows containing 'Common Pleas':\", common_pleas)"
   ]
  },
  {
   "cell_type": "code",
   "execution_count": 35,
   "metadata": {},
   "outputs": [
    {
     "name": "stdout",
     "output_type": "stream",
     "text": [
      "Number of rows containing 'Municipal Court': 129\n"
     ]
    }
   ],
   "source": [
    "# Number of Municipal Courts\n",
    "mun_court= drop_rows['Title'].str.contains(\"Municipal Court\").sum()\n",
    "print(\"Number of rows containing 'Municipal Court':\", mun_court)"
   ]
  },
  {
   "cell_type": "code",
   "execution_count": 36,
   "metadata": {},
   "outputs": [
    {
     "name": "stdout",
     "output_type": "stream",
     "text": [
      "Number of rows containing 'County Court of Common Pleas': 258\n"
     ]
    }
   ],
   "source": [
    "# Number of County Court of Common Pleas courts\n",
    "count_common_pleas= drop_rows['Title'].str.contains(\"County Court of Common Pleas\").sum()\n",
    "print(\"Number of rows containing 'County Court of Common Pleas':\", count_common_pleas)"
   ]
  },
  {
   "cell_type": "code",
   "execution_count": 37,
   "metadata": {},
   "outputs": [
    {
     "name": "stdout",
     "output_type": "stream",
     "text": [
      "Number of rows containing 'County Court': 280\n"
     ]
    }
   ],
   "source": [
    "# Number of County court\n",
    "county_court= drop_rows['Title'].str.contains(\"County Court\").sum()\n",
    "print(\"Number of rows containing 'County Court':\", county_court)"
   ]
  },
  {
   "cell_type": "code",
   "execution_count": 38,
   "metadata": {},
   "outputs": [
    {
     "name": "stdout",
     "output_type": "stream",
     "text": [
      "Number of rows containing 'County Courts': 1\n"
     ]
    }
   ],
   "source": [
    "# Number of County courts\n",
    "county_courts= drop_rows['Title'].str.contains(\"County Courts\").sum()\n",
    "print(\"Number of rows containing 'County Courts':\", county_courts)"
   ]
  },
  {
   "cell_type": "code",
   "execution_count": 40,
   "metadata": {},
   "outputs": [
    {
     "name": "stdout",
     "output_type": "stream",
     "text": [
      "Number of Juvenile Divisons: 68\n"
     ]
    }
   ],
   "source": [
    "# Number of Juvenille Divisions\n",
    "juvenile= drop_rows['Title'].str.contains(\"Juvenile Division\").sum()\n",
    "print(\"Number of Juvenile Divisons:\", juvenile)"
   ]
  },
  {
   "cell_type": "code",
   "execution_count": 43,
   "metadata": {},
   "outputs": [
    {
     "name": "stdout",
     "output_type": "stream",
     "text": [
      "Number of Probate Divisions: 69\n"
     ]
    }
   ],
   "source": [
    "# Number of Probate Divisions\n",
    "probate= drop_rows['Title'].str.contains(\"Probate Division\").sum()\n",
    "print(\"Number of Probate Divisions:\", probate)"
   ]
  },
  {
   "cell_type": "code",
   "execution_count": 47,
   "metadata": {},
   "outputs": [
    {
     "name": "stdout",
     "output_type": "stream",
     "text": [
      "Number of Juvenile and Probate Divisions: 1\n"
     ]
    }
   ],
   "source": [
    "#Number of Juve and Probate Divisions\n",
    "j_and_d= drop_rows['Title'].str.contains(\"Juvenile and Probate Divisions\").sum()\n",
    "print(\"Number of Juvenile and Probate Divisions:\", j_and_d)"
   ]
  },
  {
   "cell_type": "code",
   "execution_count": 48,
   "metadata": {},
   "outputs": [
    {
     "name": "stdout",
     "output_type": "stream",
     "text": [
      "Number of Juvenile & Probate Divisions: 2\n"
     ]
    }
   ],
   "source": [
    "# Number of Juve & Probate Divisions\n",
    "j_amp_d= drop_rows['Title'].str.contains(\"Juvenile & Probate Divisions\").sum()\n",
    "print(\"Number of Juvenile & Probate Divisions:\", j_amp_d)"
   ]
  },
  {
   "cell_type": "code",
   "execution_count": 45,
   "metadata": {},
   "outputs": [
    {
     "name": "stdout",
     "output_type": "stream",
     "text": [
      "Number of Domestic Relations Divisions: 70\n"
     ]
    }
   ],
   "source": [
    "# Number of Domestic Relations\n",
    "domestic = drop_rows['Title'].str.contains(\"Domestic Relations\").sum()\n",
    "print(\"Number of Domestic Relations Divisions:\", domestic)"
   ]
  },
  {
   "cell_type": "code",
   "execution_count": 46,
   "metadata": {},
   "outputs": [
    {
     "name": "stdout",
     "output_type": "stream",
     "text": [
      "Number of General & Domestic Relations Divisions: 32\n"
     ]
    }
   ],
   "source": [
    "# Number of General & Domestic Relations\n",
    "general = drop_rows['Title'].str.contains(\"General & Domestic Relations\").sum()\n",
    "print(\"Number of General & Domestic Relations Divisions:\", general)"
   ]
  },
  {
   "cell_type": "code",
   "execution_count": 39,
   "metadata": {},
   "outputs": [
    {
     "name": "stdout",
     "output_type": "stream",
     "text": [
      "Total amount of courts in Ohio are: 418\n"
     ]
    }
   ],
   "source": [
    "# Total rows, or total courts in this case\n",
    "row_count= drop_rows.shape[0]-1\n",
    "print('Total amount of courts in Ohio are:', row_count)"
   ]
  },
  {
   "cell_type": "code",
   "execution_count": 22,
   "metadata": {},
   "outputs": [
    {
     "name": "stdout",
     "output_type": "stream",
     "text": [
      "Adams County Court\n",
      "Adams County Court of Common Pleas\n",
      "Allen County Court of Common Pleas, Domestic Relations Division\n",
      "Allen County Court of Common Pleas, General Division\n",
      "Allen County Court of Common Pleas,  Juvenile and Probate Divisions\n",
      "Lima Municipal Court\n",
      "Ashland County Court of Common Pleas, General & Domestic Relations Divisions\n",
      "Ashland County Court of Common Pleas,  Juvenile Division\n",
      "Ashland County Court of Common Pleas,  Probate Division\n",
      "Ashland Municipal Court\n",
      "Ashtabula County Court, Eastern Division\n",
      "Ashtabula County Court of Common Pleas, General & Domestic Relations Divisions\n",
      "Ashtabula County Court of Common Pleas, Juvenile Division\n",
      "Ashtabula County Court of Common Pleas, Probate Division\n",
      "Ashtabula County Court, Western Division\n",
      "Ashtabula Municipal Court\n",
      "Conneaut Municipal Court\n",
      "Athens     County Court of Common Pleas, General and Domestic Relations Divisions\n",
      "Athens County Court of Common Pleas, Juvenile Division\n",
      "Athens County Court of Common Pleas, Probate Division\n",
      "Athens County Municipal Court\n",
      "Auglaize County Court of Common Pleas\n",
      "Auglaize County Municipal Court\n",
      "Belmont County Court of Common Pleas, General & Domestic Relations Divisions\n",
      "Belmont County Court of Common Pleas, Juvenile & Probate Divisions\n",
      "Belmont County Court, Northern, Eastern, & Western Divisions\n",
      "Brown County Court of Common Pleas, General & Domestic Relations Divisions\n",
      "Brown County Court of Common Pleas, Juvenile Division\n",
      "Brown County Court of Common Pleas, Probate Division\n",
      "Brown     County Municipal Court\n",
      "Butler County Area  Courts I, II, and III\n",
      "Butler County Court of Common Pleas, Domestic Relations Division\n",
      "Butler County Court of Common Pleas, General Division\n",
      "Butler     County Court of Common Pleas, Juvenile Division\n",
      "Butler County Court of Common Pleas, Probate Division\n",
      "Fairfield Municipal Court\n",
      "Hamilton Municipal Court\n",
      "Middletown Municipal Court\n",
      "Carroll County Court of Common Pleas, General & Domestic Relations Divisions\n",
      "Carroll County Court of Common Pleas, Probate & Juvenile Divisions\n",
      "Carroll County Municipal Court\n",
      "Champaign County Court of Common Pleas, General Division\n",
      "Champaign County Family Court\n",
      "ChampaignCounty Municipal Court\n",
      "Clark County Court of Common Pleas, Domestic Relations Division, Adult Section\n",
      "Clark County Court of Common Pleas, Domestic Relations Division, Juvenile Section\n",
      "Clark County Court of Common Pleas, General Division\n",
      "Clark County Court of Common Pleas, Probate Division\n",
      "Clark County Municipal Court\n",
      "Clermont County Court of Common Pleas, Domestic Relations Division\n",
      "Clermont County Court of Common Pleas, General Division\n",
      "Clermont County Court of Common Pleas, Juvenile Division\n",
      "Clermont County Court of Common Pleas, Probate Division\n",
      "Clermont     County Municipal Court\n",
      "Clinton County Court of Common Pleas, General & Domestic Relations Divisions\n",
      "Clinton County Court of Common Pleas, Juvenile  Division\n",
      "Clinton County Court of Common Pleas, Probate  Division\n",
      "Clinton County Municipal Court\n",
      "Columbiana County Court of Common Pleas, General & Domestic Relations Divisions\n",
      "Columbiana County Court of Common Pleas,  Juvenile Division\n",
      "Columbiana County     Municipal Court\n",
      "East Liverpool Municipal Court\n",
      "Coshocton     County Court of Common Pleas, Domestic Relations Division\n",
      "Coshocton     County Court of Common Pleas, General  Division\n",
      "Coshocton County Court of Common Pleas, Probate and Juvenile Divisions\n",
      "Coshocton Municipal Court\n",
      "Crawford County Court of Common Pleas, General & Domestic Relations Divisions\n",
      "Crawford County Municipal Court\n",
      "Bedford     Municipal Court\n",
      "Berea Municipal Court\n",
      "Cleveland Heights Municipal Court\n",
      "Cleveland Municipal Court\n",
      "Cleveland Municipal Housing Court\n",
      "Cuyahoga County Court of Common Pleas, Domestic Relations Division\n",
      "Cuyahoga County Court of Common Pleas, General Division\n",
      "Cuyahoga County Court of Common Pleas, Juvenile Division\n",
      "Cuyahoga County Court of Common Pleas, Probate Division\n",
      "East Cleveland Municipal Court\n",
      "Euclid Municipal Court\n",
      "Garfield Heights Municipal Court\n",
      "Lakewood Municipal Court\n",
      "Lyndhurst Municipal Court\n",
      "Parma Municipal Court\n",
      "Rocky River Municipal Court\n",
      "Shaker Heights Municipal Court\n",
      "South Euclid Municipal Court\n",
      "Darke County Court of Common Pleas, General & Domestic Relations Divisions\n",
      "Darke County Court of Common Pleas, Juvenile Division\n",
      "Darke County Court of Common Pleas, Probate  Division\n",
      "Darke County Municipal Court\n",
      "Defiance County Court of Common Pleas, General & Domestic Relations Divisions\n",
      "Defiance County Court of Common Pleas, Juvenile Division\n",
      "Defiance County Court of Common Pleas, Probate Division\n",
      "Defiance Municipal Court\n",
      "Delaware County Court of Common Pleas,  Domestic Relations Division\n",
      "Delaware County Court of Common Pleas, General   Division\n",
      "Delaware County Court of Common Pleas, Juvenile Division\n",
      "Delaware County Court of Common Pleas, Probate Division\n",
      "Delaware     Municipal Court\n",
      "Erie County Court of Common Pleas,  Domestic Relations Division\n",
      "Erie County Court of Common Pleas, General Division\n",
      "Erie County Court of Common Pleas, Juvenile Division\n",
      "Erie County Court of Common Pleas, Probate Division\n",
      "Erie County Municipal Court\n",
      "Huron Municipal Court\n",
      "Sandusky Municipal Court\n",
      "Vermilion Municipal Court\n",
      "Fairfield County Court of Common Pleas, Domestic Relations Division\n",
      "Fairfield County Court of Common Pleas, General Division\n",
      "Fairfield County Court of Common Pleas, Juvenile Division\n",
      "Fairfield County Court of Common Pleas, Probate Division\n",
      "Fairfield County Municipal Court\n",
      "Fayette County Court of Common Pleas, Domestic Relations Division\n",
      "Fayette County Court of Common Pleas, General Division\n",
      "Fayette County Court of Common Pleas, Juvenile Division\n",
      "Fayette County Court of Common Pleas, Probate Division\n",
      "Washington Courthouse Municipal Court\n",
      "Franklin County Court of Common Pleas, Domestic Relations Division\n",
      "Franklin County Court of Common Pleas, General Division\n",
      "Franklin County Court of Common Pleas, Juvenile Division\n",
      "Franklin County Court of Common Pleas, Probate Division\n",
      "Franklin     County Municipal Court\n",
      "Fulton County Court of Common Pleas, General & Domestic Relations Divisions\n",
      "Fulton County Court of Common Pleas, Juvenile Division\n",
      "Fulton County Court of Common Pleas, Probate Division\n",
      "Fulton County Court, Eastern Division\n",
      "Fulton County Court Western Division\n",
      "Gallia     County Court of Common Pleas, General & Domestic Divisions\n",
      "Gallia     County Court of Common Pleas, Probate & Juvenile Divisions\n",
      "Gallipolis Municipal Court\n",
      "Chardon Municipal Court\n",
      "Geauga County Court of Common Pleas, Domestic Relations Division\n",
      "Geauga County Court of Common Pleas, General Division\n",
      "Geauga County Court of Common Pleas, Juvenile Division\n",
      "Geauga County Court of Common Pleas, Probate Division\n",
      "Greene County Court of Common Pleas, Domestic Relations Division\n",
      "Greene County Court of Common Pleas, General Division\n",
      "Greene County Court of Common Pleas, Juvenile Division\n",
      "Greene County Court of Common Pleas, Probate Division\n",
      "Fairborn Municipal Court\n",
      "Xenia Municipal Court\n",
      "Cambridge     Municipal Court\n",
      "Guernsey County Court of Common Pleas, Domestic Relations Division\n",
      "Guernsey County Court of Common Pleas, General Division\n",
      "Guernsey County Court of Common Pleas,  Juvenile Division\n",
      "Guernsey County Court of Common Pleas, Probate Division\n",
      "Hamilton County Court of Common Pleas, Domestic Relations Division\n",
      "Hamilton County Court of Common Pleas, General Division\n",
      "Hamilton County Court of Common Pleas, Juvenile Division\n",
      "Hamilton County Court of Common Pleas, Probate Division\n",
      "Hamilton County Municipal Court\n",
      "Hancock County Court of Common Pleas, General & Domestic Relations Divisions\n",
      "Hancock County Court of Common Pleas, Juvenile Division\n",
      "Hancock County Court of Common Pleas, Probate Division\n",
      "Findlay Municipal Court\n",
      "Hardin County Court of Common Pleas, General & Domestic Relations Divisions\n",
      "Hardin County Court of Common Pleas, Juvenile Division\n",
      "Hardin County Court of Common Pleas, Probate  Division\n",
      "Hardin County Municipal Court\n",
      "Harrison County Court of Common Pleas, General & Domestic Relations Divisions\n",
      "Harrison County Court of Common Pleas, Juvenile Division\n",
      "Harrison County Court of Common Pleas, Probate Division\n",
      "Harrison County Court\n",
      "Henry County Family Court\n",
      "Henry County Court of Common Pleas, General Division\n",
      "Henry County Court of Common Pleas, Juvenile Division\n",
      "Henry County Court of Common Pleas, Probate Division\n",
      "Napoleon Municipal Court\n",
      "Highland County Court of Common Pleas, General & Domestic Relations Divisions\n",
      "Highland County Court of Common Pleas, Juvenile Division\n",
      "Highland County Court of Common Pleas, Probate Division\n",
      "Highland County Court\n",
      "Hillsboro Municipal Court\n",
      "Hocking County Court of Common Pleas, General & Domestic Relations Divisions\n",
      "Hocking County Court of Common Pleas, Juvenile Division\n",
      "Hocking County Court of Common Pleas, Probate Division\n",
      "Hocking County Municipal Court\n",
      "Holmes County Court of Common Pleas, General & Domestic Relations Divisions\n",
      "Holmes County Court of Common Pleas, Juvenile Division\n",
      "Holmes County Court of Common Pleas, Probate Division\n",
      "Holmes County Municipal Court\n",
      "Huron County Court of Common Pleas, General & Domestic Relations Divisions\n",
      "Huron County Court of Common Pleas, Juvenile Division\n",
      "Huron County Court of Common Pleas, Probate Division\n",
      "Norwalk Municipal Court\n",
      "Jackson County Court of Common Pleas, General & Domestic Relations Divisions\n",
      "Jackson County Court of Common Pleas, Juvenile Division\n",
      "Jackson County Court of Common Pleas, Probate Division\n",
      "Jackson County Municipal Court\n",
      "Jefferson County Court of Common Pleas, General & Domestic Relations Divisions\n",
      "Jefferson County Court of Common Pleas, Probate Division\n",
      "Jefferson County Court District I, II, and III\n",
      "Steubenville Municipal Court\n",
      "Jefferson County Court of Common Pleas, Juvenile Division\n",
      "Knox     County Court of Common Pleas, General & Domestic Relations Divisions\n",
      "Knox County Court of Common Pleas, Juvenile Division\n",
      "Knox County Court of Common Pleas, Probate Division\n",
      "Mount Vernon Municipal Court\n",
      "Lake     County Court of Common Pleas, General Division\n",
      "Lake County Court of Common Pleas, Domestic Relations Division\n",
      "Lake County Court of Common Pleas, Juvenile Division\n",
      "Lake County Court of Common Pleas, Probate Division\n",
      "Mentor     Municipal Court\n",
      "Painesville Municipal Court\n",
      "Willoughby Municipal Court\n",
      "Ironton Municipal Court\n",
      "Lawrence County Municipal Court\n",
      "Licking County Court of Common Pleas, Domestic Relations Division\n",
      "Licking County Court of Common Pleas, General Division\n",
      "Licking County Court of Common Pleas,  Juvenile Division\n",
      "Licking County Court of Common Pleas, Probate  Division\n",
      "Licking     County Municipal Court\n",
      "Bellefontaine Municipal Court\n",
      "Logan     County Court of Common Pleas, General Division\n",
      "Logan County Court of Common Pleas, Domestic Relations Division\n",
      "Logan County Court of Common Pleas, Juvenile Division\n",
      "Logan County Court of Common Pleas, Probate Division\n",
      "Avon Lake     Municipal Court\n",
      "Elyria Municipal Court\n",
      "Lorain County Court of Common Pleas, General Division\n",
      "Lorain County Court of Common Pleas, Domestic Relations and Juvenile Divisions\n",
      "Lorain County Court of Common Pleas, Probate Division\n",
      "Lorain Municipal Court\n",
      "Oberlin Municipal Court\n",
      "Lucas County Court of Common Pleas, Domestic Relations Division\n",
      "Lucas County Court of Common Pleas, General Division\n",
      "Lucas County Court of Common Pleas, Juvenile Division\n",
      "Lucas County Court of Common Pleas, Probate Division\n",
      "Maumee Municipal Court\n",
      "Oregon Municipal Court\n",
      "Sylvania Municipal Court\n",
      "Toledo Municipal Court\n",
      "Madison County Court of Common Pleas, General & Domestic Relations Divisions\n",
      "Madison County Court of Common Pleas, Juvenile Division\n",
      "Madison County  Municipal Court\n",
      "Madison County Court of Common Pleas, Probate Division\n",
      "Campbell Municipal Court\n",
      "Mahoning County Court of Common Pleas, Domestic Relations Division\n",
      "Mahoning County Court of Common Pleas, General Division\n",
      "Mahoning County Court of Common Pleas, Juvenile Division\n",
      "Mahoning County Court of Common Pleas, Probate Division\n",
      "Mahoning County Courts\n",
      "Struthers Municipal Court\n",
      "Youngstown Municipal Court\n",
      "Marion County Court of Common Pleas, Family Division\n",
      "Marion County Court of Common Pleas, General Division\n",
      "Marion County Court of Common Pleas, Probate Division\n",
      "Marion County Municipal Court\n",
      "Medina County Court of Common Pleas, Domestic Relations Division\n",
      "Medina County Court of Common Pleas, General Division I\n",
      "Medina County Court of Common Pleas, General Division II\n",
      "Medina County Court of Common Pleas, Probate & Juvenile Divisions\n",
      "Medina     Municipal Court\n",
      "Wadsworth Municipal Court\n",
      "Meigs County Court\n",
      "Celina Municipal Court\n",
      "Mercer County Court of Common Pleas, Juvenile Division\n",
      "Mercer County Court of Common Pleas, General & Domestic Relations Divisions\n",
      "Mercer County Court of Common Pleas, Probate Division\n",
      "Miami County Court of Common Pleas, General & Domestic Relations Divisions\n",
      "Miami County Court of Common Pleas, Juvenile Division\n",
      "Miami County Court of Common Pleas, Probate Division\n",
      "Miami     County Municipal Court\n",
      "Monroe County Court of Common Pleas, Domestic Relations Division\n",
      "Monroe County Court of Common Pleas, General Division\n",
      "Monroe County Court of Common Pleas, Juvenile Division\n",
      "Monroe County Court of Common Pleas, Probate Division\n",
      "Dayton Municipal Court\n",
      "KetteringMunicipal Court\n",
      "Miamisburg Municipal Court\n",
      "Montgomery County Court of Common Pleas, Domestic Relations Division\n",
      "Montgomery County Court of Common Pleas, General Division\n",
      "Montgomery County Common Pleas Court, Juvenile Division\n",
      "Montgomery County Court of Common Pleas, Probate Division\n",
      "Montgomery County Municipal Court Eastern Division\n",
      "Montgomery County Municipal Court Western Division\n",
      "Oakwood Municipal Court\n",
      "Vandalia Municipal Court\n",
      "Morgan County Court\n",
      "Morgan County Court of Common Pleas, General and Domestic Relations Divisions\n",
      "Morgan County Court of Common Pleas, Juvenile Division\n",
      "Morgan County Court of Common Pleas, Probate Division\n",
      "Morrow County Court of Common Pleas, Domestic Relations Division\n",
      "Morrow County Court of Common Pleas, General Division\n",
      "Morrow County Court of Common Pleas, Juvenile Division\n",
      "Morrow County Court of Common Pleas, Probate Division\n",
      "Morrow County Municipal Court\n",
      "Muskingum County Court\n",
      "Muskingum County Court of Common Pleas, Domestic Relations Division\n",
      "Muskingum County Court of Common Pleas, Probate Division\n",
      "Zanesville Municipal Court\n",
      "Noble County Court\n",
      "Noble County Court of Common Pleas, General Division\n",
      "Ottawa County Court of Common Pleas, Domestic Relations & General Divisions\n",
      "Ottawa County    Court of Common Pleas, Juvenile Division\n",
      "Ottawa County    Court of Common Pleas, Probate Division\n",
      "Ottawa County Municipal Court\n",
      "Paulding County Municipal Court\n",
      "Paulding County Court of Common Pleas, General & Domestic Relations Divisions\n",
      "Paulding County Court of Common Pleas, Juvenile Division\n",
      "Paulding County Court of Common Pleas, Probate Division\n",
      "Perry County Court of Common Pleas, General & Domestic Relations Divisions\n",
      "Perry County Court of Common Pleas, Juvenile Division\n",
      "Perry County Court of Common Pleas, Probate Division\n",
      "Perry County Municipal Court\n",
      "Circleville Municipal Court\n",
      "Pickaway County Court of Common Pleas, General & Domestic Relations Divisions\n",
      "Pickaway County Court of Common Pleas, Juvenile & Probate Divisions\n",
      "Pike County Court of Common Pleas,  Juvenile Division\n",
      "Pike County Court of Common Pleas, Probate Division\n",
      "Pike County Court\n",
      "Portage County Court of Common Pleas, Domestic Relations Division\n",
      "Portage County Court of Common Pleas, General Division\n",
      "Portage County Court of Common Pleas, Juvenile Division\n",
      "Portage County Court of Common Pleas, Probate Division\n",
      "Portage     County Municipal Court\n",
      "Eaton Municipal Court\n",
      "Preble County Court of Common Pleas General & Domestic Relations Divisions\n",
      "Preble County Court of Common Pleas Juvenile Division\n",
      "Preble County Court of Common Pleas Probate Division\n",
      "Putnam County Court of Common Pleas\n",
      "Putnam County Municipal Court\n",
      "Mansfield Municipal Court\n",
      "Richland County Court of Common Pleas, Domestic Relations Division\n",
      "Richland County Court of Common Pleas, General Division\n",
      "Richland County Court of Common Pleas, Juvenile Division\n",
      "Richland County Court of Common Pleas, Probate Division\n",
      "Shelby Municipal Court\n",
      "Chillicothe     Municipal Court\n",
      "Ross County Court of Common Pleas, General Division\n",
      "Ross County Court of Common Pleas, Juvenile Division\n",
      "Ross County Court of Common Pleas, Probate Division\n",
      "Bellevue Municipal Court\n",
      "Fremont Municipal Court\n",
      "Sandusky County Court of Common Pleas, General and Domestic Relations Division\n",
      "Sandusky County Court of Common Pleas, Juvenile and Probate Division\n",
      "Sandusky County Court - District 1 (Clyde)\n",
      "Sandusky County Court - District 2 (Woodville)\n",
      "Scioto County Court of Common Pleas, Domestic Relations Division\n",
      "Scioto County Court of Common Pleas, General Division\n",
      "Portsmouth Municipal Court\n",
      "Seneca County Court of Common Pleas\n",
      "Seneca County Court of Common Pleas, Juvenile Division\n",
      "Seneca County Court of Common Pleas, Probate Division\n",
      "Tiffin-Fostoria    Municipal Court\n",
      "Shelby County Court of Common Pleas, Domestic Division\n",
      "Shelby     County Court of Common Pleas, General Division\n",
      "Shelby County Court of Common Pleas, Juvenile Division\n",
      "Shelby County Court of Common Pleas, Probate Division\n",
      "Sidney     Municipal Court\n",
      "Alliance      Municipal Court\n",
      "Canton Municipal Court\n",
      "Massillon  Municipal Court\n",
      "Stark County Court of Common Pleas, General Division\n",
      "Stark County Court of Common Pleas, Probate Division\n",
      "Stark County Family Court\n",
      "Akron     Municipal Court\n",
      "Barberton Municipal Court\n",
      "Stow Municipal Court\n",
      "Summit County Court of Common Pleas, Domestic Relations Division\n",
      "Summit County Court of Common Pleas, General Division\n",
      "Summit County Court of Common Pleas, Juvenile Division\n",
      "Summit County Court of Common Pleas, Probate Division\n",
      "Girard Municipal Court\n",
      "Newton Falls Municipal Court\n",
      "Niles Municipal Court\n",
      "Trumbull County Court Central District\n",
      "Trumbull County Court Eastern District\n",
      "Trumbull County Court of Common Pleas, General Division\n",
      "Trumbull County Court of Common Pleas, Probate Division\n",
      "Trumbull County Family Court\n",
      "Warren Municipal Court\n",
      "New     Philadelphia Municipal Court\n",
      "Tuscarawas County Court of Common Pleas, General Trial Division\n",
      "Tuscarawas County Court of Common Pleas, Juvenile Division\n",
      "Tuscarawas County Court of Common Pleas, Probate Division\n",
      "Tuscarawas County Court Southern District\n",
      "Marysville Municipal Court\n",
      "Union County Court of Common Pleas, Domestic Relations Division\n",
      "Union County Court of Common Pleas, General Division\n",
      "Union County Court of Common Pleas, Juvenile Division\n",
      "Union County Court of Common Pleas, Probate Division\n",
      "Van Wert County Court of Common Pleas, General & Domestic Relations Divisions\n",
      "Van Wert County Court of Common Pleas, Juvenile Division\n",
      "Van Wert County Court of Common Pleas, Probate Division\n",
      "Van Wert Municipal Court\n",
      "Vinton County Court\n",
      "Vinton County Court of Common Pleas, General & Domestic Relations Divisions\n",
      "Franklin Municipal Court\n",
      "Lebanon Municipal Court\n",
      "Mason Municipal Court\n",
      "Warren County Court\n",
      "Warren County Court of Common Pleas, Domestic Relations Division\n",
      "Warren County Court of Common Pleas, General Division\n",
      "Warren County Court of Common Pleas, Juvenile Division\n",
      "Warren County Court of Common Pleas, Probate Division\n",
      "Marietta Municipal Court\n",
      "Washington County Court of Common Pleas, General & Domestic Relations Divisions\n",
      "Washington County Court of Common Pleas, Juvenile Division\n",
      "Washington County Court of Common Pleas, Probate Division\n",
      "Wayne County Court of Common Pleas, General & Domestic Divisions\n",
      "Wayne County Court of Common Pleas, Juvenile Division\n",
      "Wayne County Court of Common Pleas, Probate Division\n",
      "Wayne County    Municipal Court\n",
      "Bryan Municipal Court\n",
      "Williams County Court of Common Pleas, General & Domestic Relations Divisions\n",
      "Williams County Court of Common Pleas, Juvenile Division\n",
      "Williams County Court of Common Pleas, Probate Division\n",
      "Bowling Green Municipal Court\n",
      "Perrysburg Municipal Court\n",
      "Wood County Court of Common Pleas,  Domestic Relations Division\n",
      "Wood County Court of Common Pleas, General  Division\n",
      "Wood County Court of Common Pleas, Juvenile Division\n",
      "Wood County Court of Common Pleas, Probate Division\n",
      "Upper Sandusky Municipal Court\n",
      "Wyandot County Court of Common Pleas Juvenile Division\n",
      "Wyandot County Court of Common Pleas Probate Division\n",
      "Court of Claims of Ohio\n"
     ]
    }
   ],
   "source": [
    "# Unique Titles\n",
    "unique_titles = drop_rows['Title'].unique()\n",
    "\n",
    "for name in unique_titles:\n",
    "    print(name)"
   ]
  }
 ],
 "metadata": {
  "kernelspec": {
   "display_name": "base",
   "language": "python",
   "name": "python3"
  },
  "language_info": {
   "codemirror_mode": {
    "name": "ipython",
    "version": 3
   },
   "file_extension": ".py",
   "mimetype": "text/x-python",
   "name": "python",
   "nbconvert_exporter": "python",
   "pygments_lexer": "ipython3",
   "version": "3.9.12"
  },
  "orig_nbformat": 4
 },
 "nbformat": 4,
 "nbformat_minor": 2
}
